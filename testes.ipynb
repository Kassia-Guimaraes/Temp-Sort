{
 "cells": [
  {
   "cell_type": "code",
   "execution_count": null,
   "metadata": {},
   "outputs": [],
   "source": [
    "import pandas as pd\n",
    "\n",
    "df3 = pd.read_csv('./temp_exec.csv', sep=',')\n",
    "df3['Mean Time'] = df3['Time']*0\n",
    "\n",
    "for element in df3['Distribution'].drop_duplicates().to_list():\n",
    "    for length in df3['Array Length'].drop_duplicates().to_list():\n",
    "        for ordenation in df3['Ordenation'].drop_duplicates().to_list():\n",
    "            df_filtered = df3[(df3['Distribution']==element) & \n",
    "                          (df3['Array Length']==length) &\n",
    "                          (df3['Ordenation']==ordenation)]\n",
    "        \n",
    "            print(df_filtered['Time'].to_list().mean())\n",
    "        "
   ]
  },
  {
   "cell_type": "code",
   "execution_count": null,
   "metadata": {},
   "outputs": [],
   "source": [
    "import pandas as pd\n",
    "\n",
    "# Carregar o DataFrame\n",
    "df3 = pd.read_csv('./temp_exec.csv', sep=',')\n",
    "\n",
    "# Calcular a média dos tempos de execução por combinação de 'Distribution', 'Array Length' e 'Ordenation'\n",
    "mean_times = df3.groupby(['Distribution', 'Array Length', 'Ordenation'])['Time'].mean().reset_index()\n",
    "\n",
    "# Renomear a coluna da média para 'Mean Time'\n",
    "mean_times.rename(columns={'Time': 'Mean Time'}, inplace=True)\n",
    "\n",
    "# Mesclar a média de volta ao DataFrame original\n",
    "df3 = pd.merge(df3, mean_times, on=['Distribution', 'Array Length', 'Ordenation'], how='left')\n",
    "\n",
    "df3 = df3[(df3['Distribution']=='Poisson') & \n",
    "                          (df3['Array Length']==700) &\n",
    "                          (df3['Ordenation']=='Selection Sort')]\n",
    "\n",
    "print(df3)"
   ]
  },
  {
   "cell_type": "code",
   "execution_count": null,
   "metadata": {},
   "outputs": [],
   "source": [
    "import matplotlib.pyplot as plt\n",
    "\n",
    "# Dados de exemplo\n",
    "x = [1, 2, 3, 4, 5]\n",
    "y1 = [2, 3, 5, 7, 11]\n",
    "y2 = [1, 4, 6, 8, 10]\n",
    "\n",
    "# Criar o gráfico de linhas\n",
    "plt.plot(x, y1, label='Série 1', marker='o')\n",
    "plt.plot(x, y2, label='Série 2', marker='x')\n",
    "\n",
    "# Adicionar título e rótulos aos eixos\n",
    "plt.title('Gráfico de Linhas com Múltiplas Séries')\n",
    "plt.xlabel('Eixo X')\n",
    "plt.ylabel('Eixo Y')\n",
    "\n",
    "# Adicionar uma legenda\n",
    "plt.legend()\n",
    "\n",
    "# Exibir o gráfico\n",
    "plt.show()\n",
    "\n"
   ]
  },
  {
   "cell_type": "code",
   "execution_count": null,
   "metadata": {},
   "outputs": [],
   "source": [
    "import pandas as pd\n",
    "import ast\n",
    "\n",
    "samples = pd.read_csv('./samples.csv', sep=',')\n",
    " \n",
    "# Dá o nome da distribuição utilizado\n",
    "for element in samples['Distribution'].drop_duplicates().to_list():\n",
    "    list_element = samples[samples['Distribution']\n",
    "                           == element]['Sample']  # gera lista\n",
    "    for row in list_element:\n",
    "        array = ast.literal_eval(row)\n",
    "        not_duplicated = list(set(array))\n",
    "        duplicated = len(array) - len(not_duplicated)\n",
    "        \n",
    "        print(f\"Distruição: {element} - duplicados: {duplicated}\")"
   ]
  },
  {
   "cell_type": "code",
   "execution_count": null,
   "metadata": {},
   "outputs": [],
   "source": [
    "a = [1,2,2,4,4,7,9,10,10,10,10]\n",
    "\n",
    "len(a) - len(list(set(a)))\n"
   ]
  }
 ],
 "metadata": {
  "kernelspec": {
   "display_name": "Python 3",
   "language": "python",
   "name": "python3"
  },
  "language_info": {
   "codemirror_mode": {
    "name": "ipython",
    "version": 3
   },
   "file_extension": ".py",
   "mimetype": "text/x-python",
   "name": "python",
   "nbconvert_exporter": "python",
   "pygments_lexer": "ipython3",
   "version": "3.12.0"
  }
 },
 "nbformat": 4,
 "nbformat_minor": 2
}
